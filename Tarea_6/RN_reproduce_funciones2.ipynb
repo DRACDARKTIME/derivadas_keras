{
 "cells": [
  {
   "cell_type": "markdown",
   "metadata": {},
   "source": [
    "# Librerias"
   ]
  },
  {
   "cell_type": "code",
   "execution_count": 21,
   "metadata": {},
   "outputs": [],
   "source": [
    "import tensorflow as tf\n",
    "from tensorflow import keras\n",
    "from keras.models import Sequential\n",
    "from keras.layers import Dense, Dropout, Flatten\n",
    "from keras.optimizers import SGD, RMSprop, Adam\n",
    "from matplotlib import pyplot as plt\n",
    "import numpy as np\n",
    "import math "
   ]
  },
  {
   "cell_type": "markdown",
   "metadata": {},
   "source": [
    "## Codigo basura"
   ]
  },
  {
   "cell_type": "markdown",
   "metadata": {},
   "source": [
    "# Cración de Modelo"
   ]
  },
  {
   "cell_type": "code",
   "execution_count": 22,
   "metadata": {},
   "outputs": [],
   "source": [
    "loss_tracker = keras.metrics.Mean(name=\"loss\") #El promedio de loss\n",
    "pi = tf.constant(math.pi)\n",
    "class Graficador_funcion(Sequential):\n",
    "    @property\n",
    "    def metrics(self):\n",
    "        return [loss_tracker] #igual cambia el loss_tracker\n",
    "\n",
    "    def train_step(self, data):\n",
    "        batch_size =100 #Calibra la resolucion de la funcion\n",
    "        x = tf.random.uniform((batch_size,1), minval=-1, maxval=1)\n",
    "        #Creamos un vector columna con valores random entre -1 a 1\n",
    "        #Este será el intervalo de nuestra función\n",
    "        funcion = 1.+2.*x+4.*x**3\n",
    "        #Crea las y's correctas\n",
    "\n",
    "        #Calculamos el gradiente de loss\n",
    "        with tf.GradientTape() as tape:\n",
    "            y_pred = self(x, training=True)\n",
    "            #Dice al modelo que está en modo entrenamiento\n",
    "            loss = tf.math.reduce_mean(tf.math.square(y_pred-funcion))\n",
    "            #Error de minimos cuadrados\n",
    "            #Entre más cerca estén del cero, mejor es nuestro modelo\n",
    "            # Pues diría que y_pred = funcion\n",
    "\n",
    "        grads = tape.gradient(loss, self.trainable_weights)\n",
    "        #Guardamos las derivadas de loss respecto a los pesos\n",
    "        self.optimizer.apply_gradients(zip(grads, self.trainable_weights))\n",
    "        #Esto viene de Sequential\n",
    "            #toma los gradientes calculados durante\n",
    "            #la retropropagación y los utiliza para\n",
    "            #actualizar los valores de las variables\n",
    "            #entrenables del modelo utilizando el\n",
    "            #algoritmo de optimización especificado por el optimizador.\n",
    "        #actualiza metricas\n",
    "        loss_tracker.update_state(loss)\n",
    "\n",
    "        return {\"loss\": loss_tracker.result()}"
   ]
  },
  {
   "cell_type": "markdown",
   "metadata": {},
   "source": [
    "# Entrenamiento"
   ]
  },
  {
   "cell_type": "code",
   "execution_count": 23,
   "metadata": {},
   "outputs": [
    {
     "name": "stdout",
     "output_type": "stream",
     "text": [
      "Model: \"graficador_funcion_2\"\n",
      "_________________________________________________________________\n",
      " Layer (type)                Output Shape              Param #   \n",
      "=================================================================\n",
      " dense_8 (Dense)             (None, 600)               1200      \n",
      "                                                                 \n",
      " dense_9 (Dense)             (None, 200)               120200    \n",
      "                                                                 \n",
      " dense_10 (Dense)            (None, 200)               40200     \n",
      "                                                                 \n",
      " dense_11 (Dense)            (None, 1)                 201       \n",
      "                                                                 \n",
      "=================================================================\n",
      "Total params: 161,801\n",
      "Trainable params: 161,801\n",
      "Non-trainable params: 0\n",
      "_________________________________________________________________\n"
     ]
    }
   ],
   "source": [
    "model = Graficador_funcion()\n",
    "model.add(Dense(600,activation='tanh', input_shape=(1,)))\n",
    "model.add(Dense(200,activation='tanh'))\n",
    "model.add(Dense(200,activation='relu'))\n",
    "model.add(Dense(1))\n",
    "model.summary()"
   ]
  },
  {
   "cell_type": "code",
   "execution_count": 24,
   "metadata": {},
   "outputs": [],
   "source": [
    "model.compile(optimizer=Adam(learning_rate=0.0001), metrics=['loss'])"
   ]
  },
  {
   "cell_type": "code",
   "execution_count": 25,
   "metadata": {},
   "outputs": [],
   "source": [
    "x=tf.linspace(-1,1,100)"
   ]
  },
  {
   "cell_type": "code",
   "execution_count": 26,
   "metadata": {},
   "outputs": [],
   "source": [
    "history = model.fit(x,epochs=1000,verbose=0)"
   ]
  },
  {
   "cell_type": "code",
   "execution_count": 27,
   "metadata": {},
   "outputs": [
    {
     "data": {
      "image/png": "[encoded data removed]",
      "text/plain": [
       "<Figure size 640x480 with 1 Axes>"
      ]
     },
     "metadata": {},
     "output_type": "display_data"
    }
   ],
   "source": [
    "plt.plot(history.history[\"loss\"], label='loss')\n",
    "plt.legend()\n",
    "plt.show()"
   ]
  },
  {
   "cell_type": "code",
   "execution_count": 28,
   "metadata": {},
   "outputs": [],
   "source": [
    "x=tf.linspace(-1,1,100)"
   ]
  },
  {
   "cell_type": "code",
   "execution_count": 29,
   "metadata": {},
   "outputs": [
    {
     "name": "stdout",
     "output_type": "stream",
     "text": [
      "4/4 [==============================] - 0s 10ms/step\n"
     ]
    }
   ],
   "source": [
    "y_pred=model.predict(x)"
   ]
  },
  {
   "cell_type": "markdown",
   "metadata": {},
   "source": [
    "graficamos la funcion"
   ]
  },
  {
   "cell_type": "code",
   "execution_count": 30,
   "metadata": {},
   "outputs": [
    {
     "data": {
      "image/png": "[encoded data removed]",
      "text/plain": [
       "<Figure size 640x480 with 1 Axes>"
      ]
     },
     "metadata": {},
     "output_type": "display_data"
    }
   ],
   "source": [
    "plt.plot(x,1.+2.*x+4.*x**3 , label=\"exact\", color='green')\n",
    "plt.plot(x,y_pred,label=\"aprox\", color='red', linestyle='--')\n",
    "plt.legend()\n",
    "plt.show()"
   ]
  },
  {
   "cell_type": "code",
   "execution_count": null,
   "metadata": {},
   "outputs": [],
   "source": []
  }
 ],
 "metadata": {
  "kernelspec": {
   "display_name": "rn",
   "language": "python",
   "name": "python3"
  },
  "language_info": {
   "codemirror_mode": {
    "name": "ipython",
    "version": 3
   },
   "file_extension": ".py",
   "mimetype": "text/x-python",
   "name": "python",
   "nbconvert_exporter": "python",
   "pygments_lexer": "ipython3",
   "version": "3.11.5"
  }
 },
 "nbformat": 4,
 "nbformat_minor": 2
}
