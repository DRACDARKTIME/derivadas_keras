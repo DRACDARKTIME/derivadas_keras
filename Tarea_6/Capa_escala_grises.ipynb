import tensorflow as tf
from tensorflow import keras
from keras.models import Sequential
from keras.layers import Dense, Dropout,Activation
from keras.optimizers import RMSprop, Adam
from matplotlib import pyplot as plt
import numpy as np


#Creamos la capa para tomar una imagen y tranformarla en 
class SinTransform(tf.keras.layers.Layer):
    def __init__(self, num_outputs):
        super(SinTransform,self).__init__()
        self.num_outputs = num_outputs

        self.freq = tf.range(1., self.num_outputs + 1)
        #Crea un array = [ 1.,  2.,  3.,  4.,  5.,  6.,  7.,  8.,  ... , self.num_outputs]

        self.kernel = self.add_weight("kernel",
                                shape=[self.num_outputs])
        #Aquí sólo va a tener 'self.num_outputs' numero de pesos que tendrá que fijar la red

    def call(self, inputs):
        inputs = tf.convert_to_tensor(inputs)
        if (inputs.shape == ()):
            inputs=(inputs,)
            #(array(inputs),)
            #de tf.Tensor(10, shape=(), dtype=int32) ----------> 
                            #(<tf.Tensor: shape=(), dtype=int32, numpy=10>,)
        elif (len(inputs.shape)==1):
            #si inputs = np.array([inputs])
            inputs=tf.expand_dims(inputs, axis=1)
            # de array([inputs]) ------> array([[inputs]])
            #de tf.Tensor([10], shape=(1,), dtype=int32) ------->
                        # a tf.Tensor([[10]], shape=(1, 1), dtype=int32)
            
        batch = tf.shape(inputs)[0]
        #tf.Tensor(1, shape=(), dtype=int32)
        

        self.freq_b = tf.ones([batch,1])*self.freq
        #tf.ones([batch,1])------>
                    #tf.Tensor(
                    # [[[6.]]
                    #  [[5.]]], shape=(2, 1, 1), dtype=float32) ----->
                            #tf.Tensor(
                            # [[1.]
                            #  [1.]], shape=(2, 1), dtype=float32)
        #self.freq_b ---->
        #tf.Tensor(
        # [[1. 2. 3. ... num_outputs]
        # [1. 2. 3. ... num_outputs]], shape=(2, num_outputs), dtype=float32)
        

        args = self.freq_b * inputs
        #tf.Tensor(
        # [[1. 2. 3. ... num_outputs]*x_1
        # [1. 2. 3. ... num_outputs]*x_2], shape=(2, num_outputs), dtype=float32)

        modes = tf.math.sin(args)
        #tf.Tensor(
        # [[sin(x_1*1) ... sin(x_1*num_outputs)]
        # [sin(x_2*1) ... sin(x_2*num_outputs)]], shape=(2, num_outputs), dtype=float32)

        res = tf.tensordot(modes,self.kernel,1)
        #tf.Tensor(
        #[w_1*sin(x_1*1)+ ... +w_2*sin(x_1*num_outputs, ... ,w_{num_outputs}*sin(x_2*1)+ ... +w_{num_outputs}*sin(x_2*num_outputs ], shape=(num_outputs,), dtype=float32)

        return tf.expand_dims(res, axis=1)
        #tf.Tensor(
        #[ [w_1*sin(x_1*1)+ ... +w_2*sin(x_1*num_outputs]
        #       ...
        #  [w_{num_outputs}*sin(x_1*1)+ ... +w_{num_outputs}*sin(x_1*num_outputs] ], shape=(2,1), dtype=float32)
    




