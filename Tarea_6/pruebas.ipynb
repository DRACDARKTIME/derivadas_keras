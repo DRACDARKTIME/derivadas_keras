{
 "cells": [
  {
   "cell_type": "code",
   "execution_count": 4,
   "metadata": {},
   "outputs": [],
   "source": [
    "import tensorflow as tf\n",
    "from tensorflow import keras\n",
    "from keras.models import Sequential\n",
    "from keras.layers import Dense, Dropout, Flatten\n",
    "from keras.optimizers import SGD, RMSprop, Adam\n",
    "from matplotlib import pyplot as plt\n",
    "import numpy as np\n",
    "import time "
   ]
  },
  {
   "cell_type": "code",
   "execution_count": 7,
   "metadata": {},
   "outputs": [
    {
     "name": "stdout",
     "output_type": "stream",
     "text": [
      "tf.Tensor([ 0.          3.33333333  6.66666667 10.        ], shape=(4,), dtype=float64)\n",
      "tf.Tensor(\n",
      "[[1. 1. 1. 1.]\n",
      " [1. 1. 1. 1.]\n",
      " [1. 1. 1. 1.]\n",
      " [1. 1. 1. 1.]], shape=(4, 4), dtype=float32)\n",
      "tf.Tensor(\n",
      "[[   1.           0.           0.           0.       ]\n",
      " [   1.           3.3333333   11.111111    37.037037 ]\n",
      " [   1.           6.6666665   44.444443   296.2963   ]\n",
      " [   1.          10.         100.        1000.       ]], shape=(4, 4), dtype=float32)\n",
      "0.31581902503967285\n"
     ]
    }
   ],
   "source": [
    "inputs = tf.linspace(0,10,4)\n",
    "print(inputs)\n",
    "b_2 = tf.ones([4,])\n",
    "batch = tf.shape(inputs)[0]\n",
    "b = tf.ones([batch,1])*b_2\n",
    "start = time.time()\n",
    "filas, columnas = tf.unstack(tf.shape(b))\n",
    "#filas, columnas = b.shape\n",
    "base = tf.identity(b)  # Creamos una copia del tensor original\n",
    "print(base)\n",
    "for i in range(filas):\n",
    "    for j in range(columnas):\n",
    "        base = tf.tensor_scatter_nd_update(base,\n",
    "                                            [[i, j]],\n",
    "                                            [tf.pow(inputs[i], j)])\n",
    "print(base)\n",
    "final = time.time() - start\n",
    "print(final)"
   ]
  },
  {
   "cell_type": "code",
   "execution_count": 6,
   "metadata": {},
   "outputs": [
    {
     "name": "stdout",
     "output_type": "stream",
     "text": [
      "tf.Tensor([ 0.          3.33333333  6.66666667 10.        ], shape=(4,), dtype=float64)\n",
      "tf.Tensor(\n",
      "[[1. 1. 1. 1.]\n",
      " [1. 1. 1. 1.]\n",
      " [1. 1. 1. 1.]\n",
      " [1. 1. 1. 1.]], shape=(4, 4), dtype=float32)\n",
      "tf.Tensor(\n",
      "[[   1.           0.           0.           0.       ]\n",
      " [   1.           3.3333333   11.111111    37.037037 ]\n",
      " [   1.           6.6666665   44.444443   296.2963   ]\n",
      " [   1.          10.         100.        1000.       ]], shape=(4, 4), dtype=float32)\n",
      "0.37200927734375\n"
     ]
    }
   ],
   "source": [
    "inputs = tf.linspace(0,10,4)\n",
    "print(inputs)\n",
    "b_2 = tf.ones([4,])\n",
    "batch = tf.shape(inputs)[0]\n",
    "b = tf.ones([batch,1])*b_2\n",
    "start = time.time()\n",
    "#filas, columnas = tf.unstack(tf.shape(b))\n",
    "filas, columnas = b.shape\n",
    "base = tf.identity(b)  # Creamos una copia del tensor original\n",
    "print(base)\n",
    "for i in range(filas):\n",
    "    for j in range(columnas):\n",
    "        base = tf.tensor_scatter_nd_update(base,\n",
    "                                            [[i, j]],\n",
    "                                            [tf.pow(inputs[i], j)])\n",
    "print(base)\n",
    "final = time.time() - start\n",
    "print(final)"
   ]
  }
 ],
 "metadata": {
  "kernelspec": {
   "display_name": "rn",
   "language": "python",
   "name": "python3"
  },
  "language_info": {
   "codemirror_mode": {
    "name": "ipython",
    "version": 3
   },
   "file_extension": ".py",
   "mimetype": "text/x-python",
   "name": "python",
   "nbconvert_exporter": "python",
   "pygments_lexer": "ipython3",
   "version": "3.11.5"
  }
 },
 "nbformat": 4,
 "nbformat_minor": 2
}
